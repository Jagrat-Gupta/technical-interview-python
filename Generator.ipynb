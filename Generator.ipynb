{
 "cells": [
  {
   "cell_type": "code",
   "execution_count": 10,
   "metadata": {},
   "outputs": [
    {
     "name": "stdout",
     "output_type": "stream",
     "text": [
      "1\n",
      "2\n",
      "3\n"
     ]
    },
    {
     "ename": "StopIteration",
     "evalue": "",
     "output_type": "error",
     "traceback": [
      "\u001b[1;31m---------------------------------------------------------------------------\u001b[0m",
      "\u001b[1;31mStopIteration\u001b[0m                             Traceback (most recent call last)",
      "\u001b[1;32m<ipython-input-10-b0af38e0fb47>\u001b[0m in \u001b[0;36m<module>\u001b[1;34m()\u001b[0m\n\u001b[0;32m     10\u001b[0m \u001b[0mvalue\u001b[0m \u001b[1;33m=\u001b[0m \u001b[0mnext\u001b[0m\u001b[1;33m(\u001b[0m\u001b[0mg\u001b[0m\u001b[1;33m)\u001b[0m\u001b[1;33m\u001b[0m\u001b[0m\n\u001b[0;32m     11\u001b[0m \u001b[0mprint\u001b[0m\u001b[1;33m(\u001b[0m\u001b[0mvalue\u001b[0m\u001b[1;33m)\u001b[0m\u001b[1;33m\u001b[0m\u001b[0m\n\u001b[1;32m---> 12\u001b[1;33m \u001b[0mvalue\u001b[0m \u001b[1;33m=\u001b[0m \u001b[0mnext\u001b[0m\u001b[1;33m(\u001b[0m\u001b[0mg\u001b[0m\u001b[1;33m)\u001b[0m\u001b[1;33m\u001b[0m\u001b[0m\n\u001b[0m\u001b[0;32m     13\u001b[0m \u001b[0mprint\u001b[0m\u001b[1;33m(\u001b[0m\u001b[0mvalue\u001b[0m\u001b[1;33m)\u001b[0m\u001b[1;33m\u001b[0m\u001b[0m\n",
      "\u001b[1;31mStopIteration\u001b[0m: "
     ]
    }
   ],
   "source": [
    "def mygenerator():\n",
    "    yield 1\n",
    "    yield 2\n",
    "    yield 3\n",
    "g =mygenerator()\n",
    "value = next(g)\n",
    "print(value)\n",
    "value = next(g)\n",
    "print(value)\n",
    "value = next(g)\n",
    "print(value)\n",
    "value = next(g)\n",
    "print(value)"
   ]
  },
  {
   "cell_type": "code",
   "execution_count": 3,
   "metadata": {},
   "outputs": [
    {
     "name": "stdout",
     "output_type": "stream",
     "text": [
      "[0, 1, 2, 3, 4, 5, 6, 7, 8, 9, 10, 11, 12, 13, 14, 15, 16, 17, 18, 19, 20, 21, 22, 23, 24, 25, 26, 27, 28, 29, 30, 31, 32, 33, 34, 35, 36, 37, 38, 39]\n",
      "<generator object first_n_gen at 0x7efc58f87ad0>\n"
     ]
    }
   ],
   "source": [
    "import sys\n",
    "def first_n(n):\n",
    "    nums = []\n",
    "    num = 0\n",
    "    while num < n:\n",
    "        nums.append(num)\n",
    "        num += 1\n",
    "    return nums\n",
    "\n",
    "def first_n_gen(n):\n",
    "    num = 0\n",
    "    while num < n:\n",
    "        yield num\n",
    "        num += 1\n",
    "        \n",
    "print(first_n(40))\n",
    "print(first_n_gen(40))\n",
    "# print(sys.getsizeof(first_n(40)))\n",
    "# print(sys.getsizeof(first_n_gen(40)))\n"
   ]
  },
  {
   "cell_type": "code",
   "execution_count": 8,
   "metadata": {},
   "outputs": [
    {
     "name": "stdout",
     "output_type": "stream",
     "text": [
      "0\n",
      "1\n",
      "1\n",
      "2\n",
      "3\n",
      "5\n",
      "8\n",
      "13\n"
     ]
    }
   ],
   "source": [
    "def fib(n):\n",
    "    a, b = 0, 1\n",
    "    while a < n:\n",
    "        yield a\n",
    "        a, b = b, a+b\n",
    "f = fib(20)\n",
    "for i in f:\n",
    "    print(i)"
   ]
  },
  {
   "cell_type": "code",
   "execution_count": 5,
   "metadata": {},
   "outputs": [
    {
     "name": "stdout",
     "output_type": "stream",
     "text": [
      "128\n",
      "0\n",
      "2\n",
      "4\n",
      "6\n",
      "8\n",
      "136\n"
     ]
    }
   ],
   "source": [
    "#generators are written as list comprehension but with '()' instead of '[]'\n",
    "import sys\n",
    "mygen = (i for i in range(10) if i%2==0)\n",
    "mylist = [i for i in range(10) if i%2==0]\n",
    "# print(iter(mygen))\n",
    "print(sys.getsizeof(mygen))\n",
    "# for i in mygen:\n",
    "#     print(i)\n",
    "print(sys.getsizeof(mylist))\n",
    "# print(dir(mylist))"
   ]
  },
  {
   "cell_type": "code",
   "execution_count": 14,
   "metadata": {},
   "outputs": [
    {
     "name": "stdout",
     "output_type": "stream",
     "text": [
      "1\n",
      "4\n",
      "9\n",
      "16\n",
      "25\n",
      "36\n"
     ]
    }
   ],
   "source": [
    "#https://www.youtube.com/watch?v=bD05uGo_sVI&t=196s\n",
    "\n",
    "# def sq_nums(nums):\n",
    "#     result = []\n",
    "#     for i in nums:\n",
    "#         result.append(i**2)\n",
    "#     return result\n",
    "\n",
    "# my_nums = sq_nums([1,2,3,4,5,6])\n",
    "# my_nums = [x**2 for x in [1,2,3,4,5,6] ]\n",
    "\n",
    "# print(my_nums)\n",
    "\n",
    "# generator dont hold entire result in memory, it yields result one at a time\n",
    "# def sq_nums_gen(nums):\n",
    "#     for i in nums:\n",
    "#         yield (i**2)\n",
    "\n",
    "# my_nums_gen = sq_nums_gen([1,2,3,4,5,6])\n",
    "my_nums_gen = (x**2 for x in [1,2,3,4,5,6])\n",
    "# print(next(my_nums_gen))\n",
    "# print(next(my_nums_gen))\n",
    "# print(next(my_nums_gen))\n",
    "# print(next(my_nums_gen))\n",
    "# print(next(my_nums_gen))\n",
    "# print(next(my_nums_gen))\n",
    "# print(next(my_nums_gen))\n",
    "\n",
    "for num in my_nums_gen:\n",
    "    print(num)\n",
    "#generator can also be converted to list\n",
    "# print(list(my_nums_gen))\n",
    "\n"
   ]
  },
  {
   "cell_type": "code",
   "execution_count": 27,
   "metadata": {
    "collapsed": true,
    "jupyter": {
     "outputs_hidden": true
    }
   },
   "outputs": [],
   "source": [
    "# import timeit"
   ]
  },
  {
   "cell_type": "code",
   "execution_count": 33,
   "metadata": {},
   "outputs": [
    {
     "name": "stdout",
     "output_type": "stream",
     "text": [
      "1 loops, best of 3: 1.84 s per loop\n"
     ]
    }
   ],
   "source": [
    "%%timeit\n",
    "# import mem_profile\n",
    "import random\n",
    "\n",
    "names = ['John', 'Corey', 'Adam', 'Steve', 'Rick', 'Thomas']\n",
    "majors = ['Math', 'Engineering', 'CompSci', 'Arts', 'Business'] \n",
    "\n",
    "def people_list(num_people):\n",
    "    result = []\n",
    "    for i in range(num_people):\n",
    "        person = {\n",
    "                    'id': i,\n",
    "                    \"name\": random.choice(names),\n",
    "                    \"major\": random.choice(majors)\n",
    "                }\n",
    "        result.append(person)\n",
    "    return result\n",
    "\n",
    "\n",
    "\n",
    "\n",
    "people = people_list(1000000)\n",
    "\n"
   ]
  },
  {
   "cell_type": "code",
   "execution_count": 36,
   "metadata": {},
   "outputs": [
    {
     "name": "stdout",
     "output_type": "stream",
     "text": [
      "The slowest run took 19.09 times longer than the fastest. This could mean that an intermediate result is being cached \n",
      "1000000 loops, best of 3: 841 ns per loop\n"
     ]
    }
   ],
   "source": [
    "%%timeit\n",
    "# import mem_profile\n",
    "import random\n",
    "\n",
    "names = ['John', 'Corey', 'Adam', 'Steve', 'Rick', 'Thomas']\n",
    "majors = ['Math', 'Engineering', 'CompSci', 'Arts', 'Business']\n",
    "def people_gen(num_people):\n",
    "    for i in range(num_people):\n",
    "        person = {\n",
    "                    'id': i,\n",
    "                    \"name\": random.choice(names),\n",
    "                    \"major\": ramdom.choice(majors)\n",
    "                }\n",
    "        yield person\n",
    "people = people_gen(1000000)\n"
   ]
  },
  {
   "cell_type": "code",
   "execution_count": 2,
   "metadata": {},
   "outputs": [
    {
     "data": {
      "text/plain": [
       "Counter({' ': 7,\n",
       "         '.': 1,\n",
       "         '0': 1,\n",
       "         '1': 1,\n",
       "         '9': 2,\n",
       "         'T': 1,\n",
       "         'e': 4,\n",
       "         'h': 2,\n",
       "         'i': 1,\n",
       "         'k': 1,\n",
       "         'l': 1,\n",
       "         'm': 1,\n",
       "         'n': 2,\n",
       "         'o': 3,\n",
       "         'r': 2,\n",
       "         's': 3,\n",
       "         't': 4,\n",
       "         'u': 2,\n",
       "         'w': 1})"
      ]
     },
     "execution_count": 2,
     "metadata": {},
     "output_type": "execute_result"
    }
   ],
   "source": [
    "from collections import Counter\n",
    "\n",
    "str1 = \"The slowest run took 19.09 times run the\"\n",
    "list1 = str1.split()\n",
    "result = Counter(str1)\n",
    "result\n"
   ]
  },
  {
   "cell_type": "code",
   "execution_count": 2,
   "metadata": {},
   "outputs": [
    {
     "name": "stdout",
     "output_type": "stream",
     "text": [
      "<class 'generator'>\n"
     ]
    },
    {
     "ename": "TypeError",
     "evalue": "'NoneType' object is not iterable",
     "output_type": "error",
     "traceback": [
      "\u001b[0;31m---------------------------------------------------------------------------\u001b[0m",
      "\u001b[0;31mTypeError\u001b[0m                                 Traceback (most recent call last)",
      "\u001b[0;32m/tmp/ipykernel_7470/4081155731.py\u001b[0m in \u001b[0;36m<module>\u001b[0;34m\u001b[0m\n\u001b[1;32m      4\u001b[0m         \u001b[0mprint\u001b[0m\u001b[0;34m(\u001b[0m\u001b[0mtype\u001b[0m\u001b[0;34m(\u001b[0m\u001b[0mhead\u001b[0m\u001b[0;34m)\u001b[0m\u001b[0;34m)\u001b[0m\u001b[0;34m\u001b[0m\u001b[0;34m\u001b[0m\u001b[0m\n\u001b[1;32m      5\u001b[0m         \u001b[0mhead\u001b[0m\u001b[0;34m\u001b[0m\u001b[0;34m\u001b[0m\u001b[0m\n\u001b[0;32m----> 6\u001b[0;31m \u001b[0;32mfor\u001b[0m \u001b[0mline\u001b[0m \u001b[0;32min\u001b[0m \u001b[0mgen\u001b[0m\u001b[0;34m(\u001b[0m\u001b[0;34m\"file_objects_test.txt\"\u001b[0m\u001b[0;34m)\u001b[0m\u001b[0;34m:\u001b[0m\u001b[0;34m\u001b[0m\u001b[0;34m\u001b[0m\u001b[0m\n\u001b[0m\u001b[1;32m      7\u001b[0m     \u001b[0mprint\u001b[0m\u001b[0;34m(\u001b[0m\u001b[0mline\u001b[0m\u001b[0;34m)\u001b[0m\u001b[0;34m\u001b[0m\u001b[0;34m\u001b[0m\u001b[0m\n",
      "\u001b[0;31mTypeError\u001b[0m: 'NoneType' object is not iterable"
     ]
    }
   ],
   "source": [
    "def gen(file_name):\n",
    "    with open(file_name, 'r') as f_gen:\n",
    "        head = (next(f_gen) for x in range(5))\n",
    "        print(type(head))\n",
    "        head\n",
    "for line in gen(\"file_objects_test.txt\"):\n",
    "    print(line)"
   ]
  },
  {
   "cell_type": "code",
   "execution_count": null,
   "metadata": {
    "collapsed": true,
    "jupyter": {
     "outputs_hidden": true
    }
   },
   "outputs": [],
   "source": []
  }
 ],
 "metadata": {
  "kernelspec": {
   "display_name": "Python 3 (ipykernel)",
   "language": "python",
   "name": "python3"
  },
  "language_info": {
   "codemirror_mode": {
    "name": "ipython",
    "version": 3
   },
   "file_extension": ".py",
   "mimetype": "text/x-python",
   "name": "python",
   "nbconvert_exporter": "python",
   "pygments_lexer": "ipython3",
   "version": "3.10.12"
  }
 },
 "nbformat": 4,
 "nbformat_minor": 4
}
